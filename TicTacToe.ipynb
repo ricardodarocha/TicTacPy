{
 "cells": [
  {
   "cell_type": "markdown",
   "metadata": {},
   "source": [
    "# Jogo da Velha"
   ]
  },
  {
   "cell_type": "code",
   "execution_count": 261,
   "metadata": {},
   "outputs": [
    {
     "data": {
      "image/png": "[encoded data removed]",
      "text/plain": [
       "<IPython.core.display.Image object>"
      ]
     },
     "execution_count": 261,
     "metadata": {
      "image/png": {
       "width": 300
      }
     },
     "output_type": "execute_result"
    }
   ],
   "source": [
    "# Ricardo da Rocha ricardodarocha@outlook.com\n",
    "from IPython.display import Image\n",
    "Image(filename=\"D:\\python\\jupyter\\\\nBoard\\\\tictactoe.png\", width=300)\n"
   ]
  },
  {
   "cell_type": "markdown",
   "metadata": {},
   "source": [
    "Definimos um jogo da velha como uma matriz $3×3$"
   ]
  },
  {
   "cell_type": "code",
   "execution_count": 252,
   "metadata": {},
   "outputs": [],
   "source": [
    "mat = [(i+1, j+1) for i in range(3) for j in range(3)]\n",
    "def col(x): return mat[x][0]\n",
    "def lin(x): return mat[x][1]"
   ]
  },
  {
   "cell_type": "markdown",
   "metadata": {},
   "source": [
    "Com as colunas e as linhas variando de $1$ a $3$ podemos obter um mapa das coordenadas"
   ]
  },
  {
   "cell_type": "code",
   "execution_count": 253,
   "metadata": {},
   "outputs": [
    {
     "name": "stdout",
     "output_type": "stream",
     "text": [
      "[(1, 1), (1, 2), (1, 3), (2, 1), (2, 2), (2, 3), (3, 1), (3, 2), (3, 3)]\n"
     ]
    }
   ],
   "source": [
    "print(mat)"
   ]
  },
  {
   "cell_type": "markdown",
   "metadata": {},
   "source": [
    "Nós podemos calcular qualquer casa a partir das coordenadas $i×j$ *tal que* $ i =[1..3],  j =[1..3]$\n",
    "\n",
    "Representamos com os valores $[0..8]$ cada casa do tabuleiro de jogo da velha"
   ]
  },
  {
   "cell_type": "code",
   "execution_count": 254,
   "metadata": {},
   "outputs": [
    {
     "name": "stdout",
     "output_type": "stream",
     "text": [
      "012345678"
     ]
    }
   ],
   "source": [
    "def casa(i, j): return j+3*i\n",
    "\n",
    "for i in range(3):\n",
    "    for j in range(3):\n",
    "        print(casa(i,j), end='')"
   ]
  },
  {
   "cell_type": "markdown",
   "metadata": {},
   "source": [
    "dada uma **str** que represente um tabuleiro de jogo da velha, podemos formatar esta str de $3$ em $3$"
   ]
  },
  {
   "cell_type": "code",
   "execution_count": 255,
   "metadata": {},
   "outputs": [
    {
     "name": "stdout",
     "output_type": "stream",
     "text": [
      "\n",
      "❌⭕⬜\n",
      "⬜❌⬜\n",
      "⬜❌⬜\n"
     ]
    }
   ],
   "source": [
    "def quebratexto(texto, tamanho = 3, separador='|'):\n",
    "    res = ''\n",
    "    for x in range(len(texto)):\n",
    "        if x % (tamanho) == 0:\n",
    "            res += separador+texto[x]\n",
    "        else:\n",
    "            res += texto[x]\n",
    "    return res #+ separador\n",
    "\n",
    "str = '❌⭕⬜⬜❌⬜⬜❌⬜'\n",
    "strf = quebratexto(str, 3, '\\n')\n",
    "print(strf)\n",
    "\n",
    "\n",
    "def substituir(index, entrada='❌'):\n",
    "    res = ''\n",
    "    for i in range(9):\n",
    "        res += entrada if i == index else str[i]\n",
    "    return res"
   ]
  },
  {
   "cell_type": "markdown",
   "metadata": {},
   "source": [
    "# Calculando o vencedor\n",
    "\n",
    "Concatenando a matriz em diferentes posições podemos encontrar o vencedor\n",
    "\n",
    "Primeiro vamos analisar as linhas,\n",
    "em seguida as colunas e por último as diagonais."
   ]
  },
  {
   "cell_type": "code",
   "execution_count": 259,
   "metadata": {},
   "outputs": [
    {
     "name": "stdout",
     "output_type": "stream",
     "text": [
      "❌⭕⭕❌❌⭕❌⭕⬜❌❌❌⭕❌⭕⭕⭕⬜⬜❌❌⭕❌❌\n"
     ]
    }
   ],
   "source": [
    "def solve(astr):\n",
    "    verlinhas, vercolunas, verdiagonais = '', '', ''\n",
    "\n",
    "    for k in range(9):\n",
    "        verlinhas += astr[casa(col(k)-1, lin(k)-1)]\n",
    "        vercolunas += astr[casa(lin(k)-1, col(k)-1)]\n",
    "        if col(k) == lin(k):\n",
    "            verdiagonais = astr[k] + verdiagonais\n",
    "        if 4-col(k) == lin(k):\n",
    "            verdiagonais += astr[k]\n",
    "\n",
    "    return format(f'{verlinhas}{vercolunas}{verdiagonais}')\n",
    "\n",
    "def winner(astr):\n",
    "    res = ''\n",
    "    res = solve(astr)\n",
    "    res = quebratexto(res, separador='◾')\n",
    "\n",
    "    for character in ['❌', '⭕']:\n",
    "        if res.find('◾'+character*3) % 4 == 0:\n",
    "            return character\n",
    "\n",
    "    return '⬜'\n",
    "\n",
    "print(solve(str))"
   ]
  },
  {
   "cell_type": "code",
   "execution_count": 260,
   "metadata": {},
   "outputs": [
    {
     "name": "stdout",
     "output_type": "stream",
     "text": [
      "\n",
      "⬜⬜⬜\n",
      "⬜⬜⬜\n",
      "⬜⬜⬜\n",
      "\n",
      "⬜⬜⭕\n",
      "⬜⬜⬜\n",
      "⬜⬜❌\n",
      "\n",
      "⬜⬜⭕\n",
      "⭕❌⬜\n",
      "⬜⬜❌\n",
      "\n",
      "⭕❌⭕\n",
      "⭕❌⬜\n",
      "⬜⬜❌\n",
      "invalid 1\n",
      "\n",
      "⭕❌⭕\n",
      "⭕❌❌\n",
      "⭕⬜❌\n",
      "\n",
      "\n",
      "🤯\n",
      "⭕ venceu\n"
     ]
    }
   ],
   "source": [
    "import os, random\n",
    "\n",
    "def reiniciar(): return '⬜'*9\n",
    "def desenhar(astr):\n",
    "    os.system('cls')\n",
    "    print(quebratexto(astr, 3, '\\n'))\n",
    "\n",
    "def humanojoga(astr):\n",
    "    alfa = int(input(quebratexto('1️⃣2️⃣3️⃣4️⃣5️⃣6️⃣7️⃣8️⃣9️⃣', separador='\\n')))\n",
    "    if astr[alfa-1] != '⬜':\n",
    "        print(f'invalid {alfa}')\n",
    "        return humanojoga(astr)\n",
    "    astr = substituir(alfa-1)\n",
    "    return astr\n",
    "\n",
    "def computadorjoga(astr):\n",
    "    if astr.find('⬜') == -1:\n",
    "        return astr\n",
    "    while True:\n",
    "        alfa = random.randrange(9)\n",
    "        if astr[alfa] != '⬜':\n",
    "            continue;\n",
    "        astr = substituir(alfa, '⭕')\n",
    "        desenhar(astr)\n",
    "        return (astr)\n",
    "\n",
    "str = reiniciar()\n",
    "desenhar(str)\n",
    "\n",
    "while True:\n",
    "    str = humanojoga(str)\n",
    "    str = computadorjoga(str)\n",
    "    w = winner(str)\n",
    "    if w != '⬜':\n",
    "        person = '🥳' if w == '❌' else '🤯'\n",
    "        print(f'\\n\\n{person}\\n{w} venceu')\n",
    "        break\n",
    "\n"
   ]
  }
 ],
 "metadata": {
  "interpreter": {
   "hash": "f39aa3c3b9830cc3ef8c8d12ac3f3e59e1be4feb2dd3174fefb7b888b6cfac87"
  },
  "kernelspec": {
   "display_name": "Python 3.10.0 64-bit",
   "language": "python",
   "name": "python3"
  },
  "language_info": {
   "codemirror_mode": {
    "name": "ipython",
    "version": 3
   },
   "file_extension": ".py",
   "mimetype": "text/x-python",
   "name": "python",
   "nbconvert_exporter": "python",
   "pygments_lexer": "ipython3",
   "version": "3.9.2"
  },
  "orig_nbformat": 4
 },
 "nbformat": 4,
 "nbformat_minor": 2
}
